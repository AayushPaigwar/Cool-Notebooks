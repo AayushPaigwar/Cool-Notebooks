{
  "nbformat": 4,
  "nbformat_minor": 0,
  "metadata": {
    "colab": {
      "provenance": [],
      "gpuType": "T4"
    },
    "kernelspec": {
      "name": "python3",
      "display_name": "Python 3"
    },
    "language_info": {
      "name": "python"
    },
    "accelerator": "GPU"
  },
  "cells": [
    {
      "cell_type": "markdown",
      "source": [
        "# Importing Dependencies"
      ],
      "metadata": {
        "id": "W9ezzQmCg_qr"
      }
    },
    {
      "cell_type": "code",
      "execution_count": 10,
      "metadata": {
        "id": "U7590E-RXw7K"
      },
      "outputs": [],
      "source": [
        "import numpy as np\n",
        "import tensorflow as tf\n",
        "from tensorflow.keras import layers, models, datasets\n",
        "from tensorflow.keras.preprocessing.sequence import pad_sequences"
      ]
    },
    {
      "cell_type": "markdown",
      "source": [
        "# Load data of IMDB movie reviews"
      ],
      "metadata": {
        "id": "BTnCAzb9hEmC"
      }
    },
    {
      "cell_type": "code",
      "source": [
        "(train_data, train_labels), (test_data, test_labels) = datasets.imdb.load_data(num_words=10000)"
      ],
      "metadata": {
        "id": "5Uc2H8hWX2v7"
      },
      "execution_count": null,
      "outputs": []
    },
    {
      "cell_type": "markdown",
      "source": [
        "# Pad sequences to have consistent length"
      ],
      "metadata": {
        "id": "c9hqMsdWhSIB"
      }
    },
    {
      "cell_type": "code",
      "source": [
        "max_sequence_length = 200\n",
        "X_train = pad_sequences(train_data, maxlen=max_sequence_length)\n",
        "X_test = pad_sequences(test_data, maxlen=max_sequence_length)"
      ],
      "metadata": {
        "id": "QGPs1brWX4gr"
      },
      "execution_count": 12,
      "outputs": []
    },
    {
      "cell_type": "markdown",
      "source": [
        "# Build the RNN model"
      ],
      "metadata": {
        "id": "WZToVWhZhT8b"
      }
    },
    {
      "cell_type": "code",
      "source": [
        "model = models.Sequential()\n",
        "model.add(layers.Embedding(input_dim=10000, output_dim=16, input_length=max_sequence_length))\n",
        "model.add(layers.SimpleRNN(32, activation='relu'))\n",
        "model.add(layers.Dense(1, activation='sigmoid'))\n",
        "\n",
        "model.compile(optimizer='adam',\n",
        "              loss='binary_crossentropy',\n",
        "              metrics=['accuracy'])\n",
        "\n",
        "model.summary()"
      ],
      "metadata": {
        "colab": {
          "base_uri": "https://localhost:8080/"
        },
        "id": "9hAvnKMmX6i4",
        "outputId": "36097e52-6bb2-482b-debd-dc18e8aa618a"
      },
      "execution_count": 13,
      "outputs": [
        {
          "output_type": "stream",
          "name": "stdout",
          "text": [
            "Model: \"sequential_1\"\n",
            "_________________________________________________________________\n",
            " Layer (type)                Output Shape              Param #   \n",
            "=================================================================\n",
            " embedding_1 (Embedding)     (None, 200, 16)           160000    \n",
            "                                                                 \n",
            " simple_rnn_1 (SimpleRNN)    (None, 32)                1568      \n",
            "                                                                 \n",
            " dense_1 (Dense)             (None, 1)                 33        \n",
            "                                                                 \n",
            "=================================================================\n",
            "Total params: 161601 (631.25 KB)\n",
            "Trainable params: 161601 (631.25 KB)\n",
            "Non-trainable params: 0 (0.00 Byte)\n",
            "_________________________________________________________________\n"
          ]
        }
      ]
    },
    {
      "cell_type": "markdown",
      "source": [
        "# Train the model\n"
      ],
      "metadata": {
        "id": "-dtTdVpKhXGi"
      }
    },
    {
      "cell_type": "code",
      "source": [
        "model.fit(X_train, train_labels, epochs=3, batch_size=64, validation_split=0.2)"
      ],
      "metadata": {
        "colab": {
          "base_uri": "https://localhost:8080/"
        },
        "id": "il1JaswrYAC8",
        "outputId": "a945c96c-62d2-411f-f67e-2722c29dab00"
      },
      "execution_count": 14,
      "outputs": [
        {
          "output_type": "stream",
          "name": "stdout",
          "text": [
            "Epoch 1/3\n",
            "313/313 [==============================] - 83s 261ms/step - loss: 0.5746 - accuracy: 0.6852 - val_loss: 0.3904 - val_accuracy: 0.8366\n",
            "Epoch 2/3\n",
            "313/313 [==============================] - 66s 210ms/step - loss: 0.3770 - accuracy: 0.8426 - val_loss: 0.3452 - val_accuracy: 0.8572\n",
            "Epoch 3/3\n",
            "313/313 [==============================] - 65s 207ms/step - loss: 0.2502 - accuracy: 0.9024 - val_loss: 0.3439 - val_accuracy: 0.8508\n"
          ]
        },
        {
          "output_type": "execute_result",
          "data": {
            "text/plain": [
              "<keras.src.callbacks.History at 0x7fad6e58d120>"
            ]
          },
          "metadata": {},
          "execution_count": 14
        }
      ]
    },
    {
      "cell_type": "markdown",
      "source": [
        "# Evaluate the model on the test set"
      ],
      "metadata": {
        "id": "vlulno-mhZI1"
      }
    },
    {
      "cell_type": "code",
      "source": [
        "loss, accuracy = model.evaluate(X_test, test_labels)\n",
        "print(f'Test Loss: {loss}, Test Accuracy: {accuracy}')\n",
        "\n",
        "# Save model\n",
        "model.save('imdb_rnn_model.h5')"
      ],
      "metadata": {
        "colab": {
          "base_uri": "https://localhost:8080/"
        },
        "id": "B-A9LOxNYCLS",
        "outputId": "b5716465-b703-42ca-8cda-75bfc83205e1"
      },
      "execution_count": 15,
      "outputs": [
        {
          "output_type": "stream",
          "name": "stdout",
          "text": [
            "782/782 [==============================] - 15s 19ms/step - loss: 0.3509 - accuracy: 0.8505\n",
            "Test Loss: 0.3508990705013275, Test Accuracy: 0.8505200147628784\n"
          ]
        },
        {
          "output_type": "stream",
          "name": "stderr",
          "text": [
            "/usr/local/lib/python3.10/dist-packages/keras/src/engine/training.py:3103: UserWarning: You are saving your model as an HDF5 file via `model.save()`. This file format is considered legacy. We recommend using instead the native Keras format, e.g. `model.save('my_model.keras')`.\n",
            "  saving_api.save_model(\n"
          ]
        }
      ]
    }
  ]
}